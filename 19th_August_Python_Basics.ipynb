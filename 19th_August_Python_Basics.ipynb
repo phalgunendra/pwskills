{
 "cells": [
  {
   "cell_type": "code",
   "execution_count": 22,
   "id": "7e5d6345-eb94-4b52-b705-be0694278998",
   "metadata": {},
   "outputs": [],
   "source": [
    "# Assigning integers to x and y\n",
    "x=25\n",
    "y=32"
   ]
  },
  {
   "cell_type": "code",
   "execution_count": 23,
   "id": "fbb7da14-66d4-4f55-993b-e909e8f7f3b3",
   "metadata": {},
   "outputs": [
    {
     "data": {
      "text/plain": [
       "25"
      ]
     },
     "execution_count": 23,
     "metadata": {},
     "output_type": "execute_result"
    }
   ],
   "source": [
    "#fetching value of x\n",
    "x"
   ]
  },
  {
   "cell_type": "code",
   "execution_count": 24,
   "id": "760d36db-0cb3-4068-b616-33ac52c64118",
   "metadata": {},
   "outputs": [
    {
     "data": {
      "text/plain": [
       "32"
      ]
     },
     "execution_count": 24,
     "metadata": {},
     "output_type": "execute_result"
    }
   ],
   "source": [
    "#fetching value of y\n",
    "y"
   ]
  },
  {
   "cell_type": "code",
   "execution_count": 25,
   "id": "78890b1d-b1c7-4857-89ea-84698d9827d7",
   "metadata": {},
   "outputs": [],
   "source": [
    "#Adding the values of x,y and assigning it to x\n",
    "x=x+y"
   ]
  },
  {
   "cell_type": "code",
   "execution_count": 26,
   "id": "38534ab4-4208-4c4c-bb44-a3c332cbadaf",
   "metadata": {},
   "outputs": [
    {
     "data": {
      "text/plain": [
       "57"
      ]
     },
     "execution_count": 26,
     "metadata": {},
     "output_type": "execute_result"
    }
   ],
   "source": [
    "#fetching the value of x\n",
    "x"
   ]
  },
  {
   "cell_type": "code",
   "execution_count": 27,
   "id": "a068b7e5-3f4a-4674-895d-906f4ebdf05e",
   "metadata": {},
   "outputs": [],
   "source": [
    "#subtracting the value of y from x and assigning it to y\n",
    "y=x-y"
   ]
  },
  {
   "cell_type": "code",
   "execution_count": 28,
   "id": "4ec6782e-0400-4ca8-a484-eee9aa196cdb",
   "metadata": {},
   "outputs": [
    {
     "data": {
      "text/plain": [
       "25"
      ]
     },
     "execution_count": 28,
     "metadata": {},
     "output_type": "execute_result"
    }
   ],
   "source": [
    "#fetching the value of y\n",
    "y"
   ]
  },
  {
   "cell_type": "raw",
   "id": "071f9785-9d1a-4122-8517-d28770e63f34",
   "metadata": {},
   "source": [
    "We swapped the value of x to y."
   ]
  },
  {
   "cell_type": "code",
   "execution_count": 45,
   "id": "446e49e4-7074-432c-bf85-8dcda09815eb",
   "metadata": {},
   "outputs": [],
   "source": [
    "#subtracting the value of new y from x and assigning it to x\n",
    "x=x-y"
   ]
  },
  {
   "cell_type": "code",
   "execution_count": 46,
   "id": "9624935e-61a8-487d-861d-538021b63d93",
   "metadata": {},
   "outputs": [
    {
     "data": {
      "text/plain": [
       "7"
      ]
     },
     "execution_count": 46,
     "metadata": {},
     "output_type": "execute_result"
    }
   ],
   "source": [
    "#fetching the value of x\n",
    "x"
   ]
  },
  {
   "cell_type": "raw",
   "id": "10ef6fc7-c177-4433-b727-fe778d1c313b",
   "metadata": {},
   "source": [
    "Swapped the values without using temporary variable."
   ]
  },
  {
   "cell_type": "code",
   "execution_count": 47,
   "id": "2a0f0658-36b8-4517-a346-d7bc89042e7f",
   "metadata": {},
   "outputs": [
    {
     "name": "stdin",
     "output_type": "stream",
     "text": [
      "length: 20\n"
     ]
    }
   ],
   "source": [
    "#taking the input from user and converting it to integer and assigning it to a variable length\n",
    "l=int(input(\"length:\"))"
   ]
  },
  {
   "cell_type": "code",
   "execution_count": 49,
   "id": "16a4dd77-eb32-46c4-8f55-05bb730a423e",
   "metadata": {},
   "outputs": [
    {
     "name": "stdin",
     "output_type": "stream",
     "text": [
      "breadth: 30\n"
     ]
    }
   ],
   "source": [
    "#taking the input from user and converting it to integer and assigning it to a variable breadth\n",
    "b=int(input(\"breadth:\"))"
   ]
  },
  {
   "cell_type": "code",
   "execution_count": 50,
   "id": "0988643e-1368-4c1b-885f-fad09bc68876",
   "metadata": {},
   "outputs": [],
   "source": [
    "#Area of rectangle is multiplication of lenth and breadth. multiplying and assigning it to variable area\n",
    "Area=l*b"
   ]
  },
  {
   "cell_type": "code",
   "execution_count": 51,
   "id": "8ad5b6a4-dd33-4528-bd7a-8775a118f275",
   "metadata": {},
   "outputs": [
    {
     "data": {
      "text/plain": [
       "600"
      ]
     },
     "execution_count": 51,
     "metadata": {},
     "output_type": "execute_result"
    }
   ],
   "source": [
    "#fetching the value of area\n",
    "Area"
   ]
  },
  {
   "cell_type": "raw",
   "id": "ecbce1de-33d7-451e-9e08-c147a52807e9",
   "metadata": {},
   "source": [
    "calculated the value of area by taking input from user"
   ]
  },
  {
   "cell_type": "code",
   "execution_count": 54,
   "id": "04a02101-a880-44c4-9a70-015d157383d1",
   "metadata": {},
   "outputs": [
    {
     "name": "stdin",
     "output_type": "stream",
     "text": [
      "celsius: 33\n"
     ]
    }
   ],
   "source": [
    "#taking the input from user in celsius and storing it in variable c\n",
    "c=int(input(\"celsius:\"))"
   ]
  },
  {
   "cell_type": "code",
   "execution_count": 55,
   "id": "6290bcf1-ba2d-4771-82c5-4c7673205b6d",
   "metadata": {},
   "outputs": [],
   "source": [
    "#converting the celsius to fahrenheit by using formula and storing it in variable f\n",
    "f=(9/5)*c+32"
   ]
  },
  {
   "cell_type": "code",
   "execution_count": 56,
   "id": "f4809484-f7e7-4bc1-8d08-258d64f8b7e4",
   "metadata": {},
   "outputs": [
    {
     "data": {
      "text/plain": [
       "91.4"
      ]
     },
     "execution_count": 56,
     "metadata": {},
     "output_type": "execute_result"
    }
   ],
   "source": [
    "#fetching the value in fahrenheit\n",
    "f"
   ]
  },
  {
   "cell_type": "code",
   "execution_count": 59,
   "id": "3d440ced-04bb-4fdf-8eeb-89343bd8e03b",
   "metadata": {},
   "outputs": [],
   "source": [
    "#string input in a variable\n",
    "s=\"pwskills is helping me to become a data scientist\""
   ]
  },
  {
   "cell_type": "code",
   "execution_count": 60,
   "id": "ceaaad51-1a27-48e2-86f8-1263c2b4db1a",
   "metadata": {},
   "outputs": [
    {
     "data": {
      "text/plain": [
       "49"
      ]
     },
     "execution_count": 60,
     "metadata": {},
     "output_type": "execute_result"
    }
   ],
   "source": [
    "#finding the length of string by using len funtion\n",
    "len(s)"
   ]
  },
  {
   "cell_type": "code",
   "execution_count": 64,
   "id": "701d4e7d-7073-42f7-a05c-97cc4aaa7c9c",
   "metadata": {},
   "outputs": [
    {
     "name": "stdin",
     "output_type": "stream",
     "text": [
      "Enter a sentence:  datascience is a trending coursenow.\n"
     ]
    }
   ],
   "source": [
    "# taking input from user\n",
    "s = input(\"Enter a sentence: \")"
   ]
  },
  {
   "cell_type": "code",
   "execution_count": 65,
   "id": "aa56ddc3-be30-462d-93dd-e72cc4099810",
   "metadata": {},
   "outputs": [],
   "source": [
    "#declaring vowels into a variable\n",
    "vowels=\"aeiou\""
   ]
  },
  {
   "cell_type": "code",
   "execution_count": 68,
   "id": "22762150-3f08-4539-935b-0f4400252c0e",
   "metadata": {},
   "outputs": [],
   "source": [
    "#counting vowels by using sum and count\n",
    "vowel_count = sum(s.count(vowel) for vowel in vowels)"
   ]
  },
  {
   "cell_type": "code",
   "execution_count": 69,
   "id": "02c109cc-c8c3-45da-a132-870745fd590b",
   "metadata": {},
   "outputs": [
    {
     "data": {
      "text/plain": [
       "13"
      ]
     },
     "execution_count": 69,
     "metadata": {},
     "output_type": "execute_result"
    }
   ],
   "source": [
    "#fetching the value of vowelcount\n",
    "vowel_count"
   ]
  },
  {
   "cell_type": "code",
   "execution_count": 71,
   "id": "6b792c63-c19d-41b1-80b9-bf2568295914",
   "metadata": {},
   "outputs": [
    {
     "data": {
      "text/plain": [
       "'rellik'"
      ]
     },
     "execution_count": 71,
     "metadata": {},
     "output_type": "execute_result"
    }
   ],
   "source": [
    "#storing the string into a variable\n",
    "s='killer'\n",
    "#reversing the characters by slicing\n",
    "s[6::-1]"
   ]
  },
  {
   "cell_type": "raw",
   "id": "a9664328-db1b-4467-a2e9-f02ae3f007c1",
   "metadata": {},
   "source": [
    "reversed the string."
   ]
  },
  {
   "cell_type": "code",
   "execution_count": 78,
   "id": "8e7fef19-bb1c-4501-88da-b0fb7f3cad3c",
   "metadata": {},
   "outputs": [
    {
     "name": "stdin",
     "output_type": "stream",
     "text": [
      "s: oops\n"
     ]
    }
   ],
   "source": [
    "#taking the string as input from user and strongit into a variable\n",
    "s=input(\"s:\")"
   ]
  },
  {
   "cell_type": "code",
   "execution_count": 79,
   "id": "d172410b-0870-4a19-9a94-26bc8d510c4e",
   "metadata": {},
   "outputs": [],
   "source": [
    "#reversing the string and stroing it in other vriable\n",
    "y=s[::-1]"
   ]
  },
  {
   "cell_type": "code",
   "execution_count": 80,
   "id": "779bb758-73e3-4489-9e05-39566e85463e",
   "metadata": {},
   "outputs": [
    {
     "data": {
      "text/plain": [
       "'spoo'"
      ]
     },
     "execution_count": 80,
     "metadata": {},
     "output_type": "execute_result"
    }
   ],
   "source": [
    "#fetching the value of y\n",
    "y"
   ]
  },
  {
   "cell_type": "code",
   "execution_count": 88,
   "id": "0a22810a-73a7-436d-9794-ce6c3840b1b2",
   "metadata": {},
   "outputs": [
    {
     "name": "stdout",
     "output_type": "stream",
     "text": [
      "not a palindrome\n"
     ]
    }
   ],
   "source": [
    "#condition of \n",
    "if s==y:\n",
    "    print(\"String is a palindrome\")\n",
    "else:\n",
    "    print(\"not a palindrome\")"
   ]
  },
  {
   "cell_type": "raw",
   "id": "0cc9b7f3-ba91-4f9a-8e70-a31d432ec498",
   "metadata": {},
   "source": [
    "checked whether palindrome or not and printed the output."
   ]
  },
  {
   "cell_type": "code",
   "execution_count": null,
   "id": "bbde96e1-2f89-4650-a40c-34df80c5b998",
   "metadata": {},
   "outputs": [],
   "source": [
    "#taking the input sentence from user\n",
    "a=input(\"sentence:\")"
   ]
  },
  {
   "cell_type": "code",
   "execution_count": 86,
   "id": "8a5ea41e-3685-49f8-98f0-669ef5102f09",
   "metadata": {},
   "outputs": [],
   "source": [
    "#replacing the space with nospace and storing it in variable b\n",
    "b=a.replace(\" \",\"\")"
   ]
  },
  {
   "cell_type": "code",
   "execution_count": 87,
   "id": "a5e5635c-fa66-4853-b229-ce9d0d0f4157",
   "metadata": {},
   "outputs": [
    {
     "data": {
      "text/plain": [
       "'datadatadatapython'"
      ]
     },
     "execution_count": 87,
     "metadata": {},
     "output_type": "execute_result"
    }
   ],
   "source": [
    "#fetching value of b\n",
    "b"
   ]
  },
  {
   "cell_type": "raw",
   "id": "fc35f274-d5d8-4655-9560-64c0c48fda60",
   "metadata": {},
   "source": [
    "removed the spaces."
   ]
  }
 ],
 "metadata": {
  "kernelspec": {
   "display_name": "Python 3 (ipykernel)",
   "language": "python",
   "name": "python3"
  },
  "language_info": {
   "codemirror_mode": {
    "name": "ipython",
    "version": 3
   },
   "file_extension": ".py",
   "mimetype": "text/x-python",
   "name": "python",
   "nbconvert_exporter": "python",
   "pygments_lexer": "ipython3",
   "version": "3.10.8"
  }
 },
 "nbformat": 4,
 "nbformat_minor": 5
}
